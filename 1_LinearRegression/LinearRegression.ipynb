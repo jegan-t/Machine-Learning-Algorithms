{
 "cells": [
  {
   "metadata": {
    "collapsed": true
   },
   "cell_type": "markdown",
   "source": "# Linear Regression",
   "id": "dc232c2c3dd5681"
  },
  {
   "metadata": {},
   "cell_type": "markdown",
   "source": "## Introduction",
   "id": "54a53a076f7f3127"
  },
  {
   "metadata": {},
   "cell_type": "markdown",
   "source": [
    "**What is Linear Regression**\n",
    "* One of the most fundamental and widely-used algorithms in machine learning and statistics\n",
    "* It models the relationship between dependent variable(target) and one or more independent variables(features) by fitting a linear equation to observed data\n",
    "* *Core Idea*: Find the best fitting straight line through a set of datapoints. This line can then be used to predict new values based on input features"
   ],
   "id": "6a623280f3a250bd"
  },
  {
   "metadata": {},
   "cell_type": "markdown",
   "source": [
    "**Why Linear Regression**\n",
    "1. Interpretability\n",
    "    The model coefficients directly show the relationship between features and target\n",
    "2. Simplicity\n",
    "    Easy to implement and understand\n",
    "3. Foundation\n",
    "    Many Advanced techniques build upon linear regression concepts\n",
    "4. Efficiency\n",
    "    Computationaly inexpensive with closed-form solution available"
   ],
   "id": "b6ae89e857327734"
  },
  {
   "metadata": {},
   "cell_type": "markdown",
   "source": "## Mathematical Foundations",
   "id": "a62db516b695346d"
  },
  {
   "metadata": {},
   "cell_type": "markdown",
   "source": [
    "**Assumptions of Linear Regression**\n",
    "1. Linearity\n",
    "    The relationship between independent and dependent variable is linear\n",
    "2. Independence\n",
    "    Observations are independent of each other\n",
    "3. Homoscedasticity\n",
    "    Constant variance of errors across all levels of independent variables\n",
    "4. Normality\n",
    "    Residuals(Errors) are normally distributed\n",
    "5. No Multicollinearity\n",
    "    Independent variables are not highly correlated with each other"
   ],
   "id": "e578136656b72e0a"
  },
  {
   "metadata": {},
   "cell_type": "markdown",
   "source": "### The Hypothesis Function",
   "id": "ff4ae7303067705c"
  },
  {
   "metadata": {},
   "cell_type": "markdown",
   "source": [
    "* For simple linear regression(one feature), the hypothesis function is,\n",
    "$$h_\\theta(x) = \\theta_0 + \\theta_1 x$$\n",
    "* For multiple Linear regression (n features):\n",
    "$$h_\\theta(x) = \\theta_0 + \\theta_1 x_1 + \\theta_2 x_2 + ......+ \\theta_n x_n  = \\sum_{j=0}^{n}\\theta_j x_j$$\n",
    "* In vectorized form ,\n",
    "$$h_\\theta(x) = \\theta^T x$$\n",
    "    where $\\theta = [\\theta_0, \\theta_1 , .... , \\theta_n]$ and $x = [1, x_1, x_2, x_3 , ....., x_n]$"
   ],
   "id": "6851bea8f733b168"
  },
  {
   "metadata": {},
   "cell_type": "markdown",
   "source": "### Cost Function",
   "id": "fec8e638105db40c"
  },
  {
   "metadata": {},
   "cell_type": "code",
   "outputs": [],
   "execution_count": null,
   "source": "",
   "id": "5b8f9b34d3dd8f03"
  }
 ],
 "metadata": {
  "kernelspec": {
   "display_name": "Python 3",
   "language": "python",
   "name": "python3"
  },
  "language_info": {
   "codemirror_mode": {
    "name": "ipython",
    "version": 2
   },
   "file_extension": ".py",
   "mimetype": "text/x-python",
   "name": "python",
   "nbconvert_exporter": "python",
   "pygments_lexer": "ipython2",
   "version": "2.7.6"
  }
 },
 "nbformat": 4,
 "nbformat_minor": 5
}
